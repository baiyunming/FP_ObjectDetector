{
 "cells": [
  {
   "cell_type": "code",
   "execution_count": 1,
   "metadata": {},
   "outputs": [],
   "source": [
    "import os\n",
    "import pycocotools.coco as coco\n",
    "\n",
    "from pycocotools.cocoeval import COCOeval"
   ]
  },
  {
   "cell_type": "code",
   "execution_count": 2,
   "metadata": {},
   "outputs": [
    {
     "name": "stdout",
     "output_type": "stream",
     "text": [
      "loading annotations into memory...\n",
      "Done (t=1.05s)\n",
      "creating index...\n",
      "index created!\n",
      "Loading and preparing results...\n",
      "DONE (t=4.02s)\n",
      "creating index...\n",
      "index created!\n"
     ]
    }
   ],
   "source": [
    "split = 'val'\n",
    "annot_path = os.path.join('F:\\TUM Learning Material\\Forschung\\CenterNet\\CenterNet-master\\data\\coco', 'annotations','instances_{}2017.json').format(split)\n",
    "#initialize coco object given file_path\n",
    "coco = coco.COCO(annot_path)\n",
    "\n",
    "centernet_dets = coco.loadRes('{}/results.json'.format('F:\\TUM Learning Material\\Forschung\\CenterNet\\CenterNet-master\\exp\\ctdet\\hourglass'))"
   ]
  },
  {
   "cell_type": "code",
   "execution_count": 3,
   "metadata": {},
   "outputs": [],
   "source": [
    "coco_eval = COCOeval(coco, centernet_dets, \"bbox\")"
   ]
  },
  {
   "cell_type": "code",
   "execution_count": 4,
   "metadata": {},
   "outputs": [
    {
     "name": "stdout",
     "output_type": "stream",
     "text": [
      "Running per image evaluation...\n",
      "Evaluate annotation type *bbox*\n",
      "DONE (t=57.78s).\n"
     ]
    }
   ],
   "source": [
    "coco_eval.evaluate()"
   ]
  },
  {
   "cell_type": "code",
   "execution_count": 5,
   "metadata": {
    "scrolled": false
   },
   "outputs": [
    {
     "name": "stdout",
     "output_type": "stream",
     "text": [
      "Accumulating evaluation results...\n",
      "DONE (t=14.58s).\n"
     ]
    }
   ],
   "source": [
    "result = coco_eval.accumulate()"
   ]
  },
  {
   "cell_type": "code",
   "execution_count": 6,
   "metadata": {},
   "outputs": [
    {
     "data": {
      "text/plain": [
       "[10, 101, 80, 4, 3]"
      ]
     },
     "execution_count": 6,
     "metadata": {},
     "output_type": "execute_result"
    }
   ],
   "source": [
    "result['counts']"
   ]
  },
  {
   "cell_type": "code",
   "execution_count": 7,
   "metadata": {},
   "outputs": [
    {
     "data": {
      "text/plain": [
       "(10, 101, 80, 4, 3)"
      ]
     },
     "execution_count": 7,
     "metadata": {},
     "output_type": "execute_result"
    }
   ],
   "source": [
    "result['precision'].shape"
   ]
  },
  {
   "cell_type": "code",
   "execution_count": 8,
   "metadata": {},
   "outputs": [
    {
     "name": "stdout",
     "output_type": "stream",
     "text": [
      " Average Precision  (AP) @[ IoU=0.50:0.95 | area=   all | maxDets=100 ] = 0.403\n",
      " Average Precision  (AP) @[ IoU=0.50      | area=   all | maxDets=100 ] = 0.591\n",
      " Average Precision  (AP) @[ IoU=0.75      | area=   all | maxDets=100 ] = 0.440\n",
      " Average Precision  (AP) @[ IoU=0.50:0.95 | area= small | maxDets=100 ] = 0.234\n",
      " Average Precision  (AP) @[ IoU=0.50:0.95 | area=medium | maxDets=100 ] = 0.443\n",
      " Average Precision  (AP) @[ IoU=0.50:0.95 | area= large | maxDets=100 ] = 0.532\n",
      " Average Recall     (AR) @[ IoU=0.50:0.95 | area=   all | maxDets=  1 ] = 0.327\n",
      " Average Recall     (AR) @[ IoU=0.50:0.95 | area=   all | maxDets= 10 ] = 0.531\n",
      " Average Recall     (AR) @[ IoU=0.50:0.95 | area=   all | maxDets=100 ] = 0.557\n",
      " Average Recall     (AR) @[ IoU=0.50:0.95 | area= small | maxDets=100 ] = 0.371\n",
      " Average Recall     (AR) @[ IoU=0.50:0.95 | area=medium | maxDets=100 ] = 0.602\n",
      " Average Recall     (AR) @[ IoU=0.50:0.95 | area= large | maxDets=100 ] = 0.704\n"
     ]
    }
   ],
   "source": [
    "coco_eval.summarize()"
   ]
  },
  {
   "cell_type": "code",
   "execution_count": 9,
   "metadata": {},
   "outputs": [],
   "source": [
    "T, R, K, A, M = result['counts']"
   ]
  },
  {
   "cell_type": "code",
   "execution_count": 10,
   "metadata": {},
   "outputs": [],
   "source": [
    "precision_matrix = result['precision']"
   ]
  },
  {
   "cell_type": "code",
   "execution_count": 11,
   "metadata": {},
   "outputs": [],
   "source": [
    "import numpy as np"
   ]
  },
  {
   "cell_type": "code",
   "execution_count": 12,
   "metadata": {},
   "outputs": [],
   "source": [
    "#maxdetection=100 --> last_index = 2\n",
    "#small area \n",
    "def get_class_precision(precision_matrix, area_idx, maxDet_idx, T=10, R=101, K=80):\n",
    "    class_precision = precision_matrix[:,:,:,area_idx,maxDet_idx]\n",
    "    class_precision = class_precision[class_precision>-1].reshape(T,R,K)\n",
    "    class_precision = np.mean(class_precision, axis=0)\n",
    "    class_precision = np.mean(class_precision, axis=0)\n",
    "    return np.round(class_precision, decimals=3) "
   ]
  },
  {
   "cell_type": "code",
   "execution_count": 19,
   "metadata": {},
   "outputs": [],
   "source": [
    "smallarea_precision = get_class_precision(precision_matrix, area_idx=1, maxDet_idx=1)\n",
    "middlearea_precision = get_class_precision(precision_matrix, area_idx=2, maxDet_idx=1)\n",
    "largearea_precision = get_class_precision(precision_matrix, area_idx=3, maxDet_idx=1)\n",
    "total_precision = get_class_precision(precision_matrix, area_idx=0, maxDet_idx=1)"
   ]
  },
  {
   "cell_type": "code",
   "execution_count": 20,
   "metadata": {},
   "outputs": [],
   "source": [
    "class_name = ['person', 'bicycle', 'car', 'motorcycle', 'airplane','bus', 'train', 'truck', 'boat', 'traffic light', 'fire hydrant',\n",
    "      'stop sign', 'parking meter', 'bench', 'bird', 'cat', 'dog', 'horse',\n",
    "      'sheep', 'cow', 'elephant', 'bear', 'zebra', 'giraffe', 'backpack',\n",
    "      'umbrella', 'handbag', 'tie', 'suitcase', 'frisbee', 'skis',\n",
    "      'snowboard', 'sports ball', 'kite', 'baseball bat', 'baseball glove',\n",
    "      'skateboard', 'surfboard', 'tennis racket', 'bottle', 'wine glass',\n",
    "      'cup', 'fork', 'knife', 'spoon', 'bowl', 'banana', 'apple', 'sandwich',\n",
    "      'orange', 'broccoli', 'carrot', 'hot dog', 'pizza', 'donut', 'cake',\n",
    "      'chair', 'couch', 'potted plant', 'bed', 'dining table', 'toilet', 'tv',\n",
    "      'laptop', 'mouse', 'remote', 'keyboard', 'cell phone', 'microwave',\n",
    "      'oven', 'toaster', 'sink', 'refrigerator', 'book', 'clock', 'vase',\n",
    "      'scissors', 'teddy bear', 'hair drier', 'toothbrush']"
   ]
  },
  {
   "cell_type": "code",
   "execution_count": 21,
   "metadata": {},
   "outputs": [],
   "source": [
    "import sys\n",
    "from prettytable import PrettyTable"
   ]
  },
  {
   "cell_type": "code",
   "execution_count": 22,
   "metadata": {},
   "outputs": [],
   "source": [
    "class_precision_table = PrettyTable(['class','small','middle','large','total'])\n",
    "\n",
    "for cat in range(len(class_name)):\n",
    "    class_precision_table.add_row([class_name[cat],smallarea_precision[cat],middlearea_precision[cat],largearea_precision[cat],total_precision[cat]])"
   ]
  },
  {
   "cell_type": "code",
   "execution_count": 23,
   "metadata": {},
   "outputs": [
    {
     "name": "stdout",
     "output_type": "stream",
     "text": [
      "+----------------+-------+--------+-------+-------+\n",
      "|     class      | small | middle | large | total |\n",
      "+----------------+-------+--------+-------+-------+\n",
      "|     person     | 0.286 |  0.58  | 0.725 | 0.502 |\n",
      "|    bicycle     | 0.134 | 0.353  | 0.567 | 0.289 |\n",
      "|      car       | 0.332 | 0.596  | 0.672 | 0.436 |\n",
      "|   motorcycle   | 0.207 | 0.379  | 0.571 | 0.407 |\n",
      "|    airplane    | 0.635 | 0.596  | 0.575 |  0.59 |\n",
      "|      bus       | 0.293 | 0.479  | 0.765 | 0.621 |\n",
      "|     train      | 0.291 | 0.277  |  0.62 | 0.573 |\n",
      "|     truck      | 0.201 | 0.366  | 0.525 | 0.369 |\n",
      "|      boat      | 0.171 | 0.317  | 0.442 |  0.26 |\n",
      "| traffic light  | 0.184 | 0.449  | 0.469 | 0.234 |\n",
      "|  fire hydrant  | 0.355 | 0.748  | 0.811 | 0.677 |\n",
      "|   stop sign    | 0.261 | 0.733  | 0.942 | 0.669 |\n",
      "| parking meter  | 0.079 | 0.451  | 0.759 | 0.462 |\n",
      "|     bench      | 0.142 | 0.263  | 0.371 | 0.241 |\n",
      "|      bird      | 0.185 | 0.572  | 0.749 | 0.319 |\n",
      "|      cat       | 0.259 | 0.552  | 0.647 | 0.622 |\n",
      "|      dog       | 0.284 | 0.598  | 0.666 | 0.605 |\n",
      "|     horse      |  0.25 | 0.575  | 0.736 | 0.576 |\n",
      "|     sheep      | 0.276 | 0.554  | 0.606 |  0.48 |\n",
      "|      cow       | 0.293 | 0.542  | 0.714 | 0.483 |\n",
      "|    elephant    | 0.245 | 0.529  |  0.69 | 0.595 |\n",
      "|      bear      | 0.621 | 0.773  |  0.72 | 0.717 |\n",
      "|     zebra      | 0.457 | 0.652  | 0.746 | 0.643 |\n",
      "|    giraffe     | 0.359 |  0.71  | 0.713 | 0.664 |\n",
      "|    backpack    | 0.127 | 0.203  | 0.231 | 0.153 |\n",
      "|    umbrella    | 0.212 | 0.395  |  0.57 | 0.376 |\n",
      "|    handbag     | 0.122 |  0.23  | 0.209 | 0.163 |\n",
      "|      tie       | 0.217 | 0.511  | 0.629 | 0.331 |\n",
      "|    suitcase    | 0.194 | 0.416  | 0.633 | 0.402 |\n",
      "|    frisbee     | 0.579 | 0.708  | 0.867 | 0.643 |\n",
      "|      skis      | 0.225 |  0.41  | 0.202 | 0.259 |\n",
      "|   snowboard    | 0.223 | 0.552  | 0.409 | 0.328 |\n",
      "|  sports ball   | 0.408 | 0.681  | 0.556 | 0.444 |\n",
      "|      kite      |  0.35 | 0.427  | 0.367 | 0.362 |\n",
      "|  baseball bat  | 0.323 | 0.319  | 0.001 | 0.283 |\n",
      "| baseball glove | 0.287 | 0.461  | 0.645 | 0.353 |\n",
      "|   skateboard   | 0.419 | 0.674  | 0.511 | 0.534 |\n",
      "|   surfboard    | 0.198 | 0.482  | 0.523 |  0.37 |\n",
      "| tennis racket  | 0.362 | 0.603  | 0.601 |  0.51 |\n",
      "|     bottle     | 0.255 | 0.504  | 0.644 | 0.355 |\n",
      "|   wine glass   | 0.198 |  0.53  |  0.67 | 0.354 |\n",
      "|      cup       | 0.247 |  0.56  | 0.627 | 0.412 |\n",
      "|      fork      | 0.216 | 0.537  | 0.419 | 0.365 |\n",
      "|     knife      | 0.146 | 0.319  | 0.252 | 0.191 |\n",
      "|     spoon      | 0.153 | 0.258  | 0.393 | 0.181 |\n",
      "|      bowl      | 0.238 | 0.426  | 0.473 | 0.369 |\n",
      "|     banana     | 0.066 | 0.208  | 0.376 | 0.188 |\n",
      "|     apple      | 0.045 |  0.24  | 0.285 | 0.149 |\n",
      "|    sandwich    | 0.023 | 0.098  | 0.463 | 0.301 |\n",
      "|     orange     | 0.104 | 0.318  | 0.417 | 0.248 |\n",
      "|    broccoli    |  0.04 | 0.199  |  0.22 | 0.172 |\n",
      "|     carrot     | 0.123 | 0.274  | 0.233 | 0.197 |\n",
      "|    hot dog     | 0.104 | 0.263  | 0.481 | 0.278 |\n",
      "|     pizza      | 0.179 | 0.396  | 0.588 |  0.46 |\n",
      "|     donut      | 0.239 | 0.446  | 0.679 | 0.385 |\n",
      "|      cake      | 0.185 | 0.336  | 0.502 | 0.337 |\n",
      "|     chair      | 0.163 | 0.356  | 0.457 | 0.291 |\n",
      "|     couch      | 0.027 |  0.24  | 0.523 | 0.445 |\n",
      "|  potted plant  | 0.188 | 0.279  | 0.289 | 0.247 |\n",
      "|      bed       |  0.0  | 0.144  | 0.358 | 0.331 |\n",
      "|  dining table  | 0.034 | 0.134  | 0.201 |  0.15 |\n",
      "|     toilet     |  0.02 |  0.46  |  0.68 | 0.594 |\n",
      "|       tv       | 0.214 | 0.521  | 0.666 |  0.55 |\n",
      "|     laptop     |  0.15 | 0.456  | 0.746 | 0.594 |\n",
      "|     mouse      | 0.518 |  0.68  | 0.761 | 0.601 |\n",
      "|     remote     | 0.254 | 0.468  |  0.6  | 0.319 |\n",
      "|    keyboard    | 0.237 | 0.531  | 0.564 | 0.497 |\n",
      "|   cell phone   | 0.214 | 0.477  | 0.637 | 0.349 |\n",
      "|   microwave    | 0.113 | 0.576  | 0.645 | 0.573 |\n",
      "|      oven      |  0.08 | 0.287  | 0.382 | 0.325 |\n",
      "|    toaster     |  0.85 | 0.283  | 0.487 | 0.336 |\n",
      "|      sink      | 0.188 | 0.476  | 0.448 | 0.379 |\n",
      "|  refrigerator  |  0.0  | 0.253  | 0.628 |  0.54 |\n",
      "|      book      | 0.072 | 0.178  | 0.189 | 0.096 |\n",
      "|     clock      | 0.343 | 0.589  | 0.533 | 0.467 |\n",
      "|      vase      | 0.221 | 0.366  | 0.586 | 0.332 |\n",
      "|    scissors    | 0.103 | 0.333  | 0.373 | 0.257 |\n",
      "|   teddy bear   | 0.014 | 0.299  | 0.608 | 0.407 |\n",
      "|   hair drier   | 0.031 |  0.28  | 0.009 | 0.085 |\n",
      "|   toothbrush   | 0.204 |  0.36  | 0.411 | 0.259 |\n",
      "+----------------+-------+--------+-------+-------+\n"
     ]
    }
   ],
   "source": [
    "print(class_precision_table)"
   ]
  },
  {
   "cell_type": "code",
   "execution_count": 24,
   "metadata": {},
   "outputs": [
    {
     "name": "stdout",
     "output_type": "stream",
     "text": [
      "bear\n",
      "fire hydrant\n",
      "stop sign\n",
      "giraffe\n",
      "zebra\n",
      "frisbee\n",
      "cat\n",
      "bus\n",
      "dog\n",
      "mouse\n",
      "elephant\n",
      "toilet\n",
      "laptop\n",
      "airplane\n",
      "horse\n",
      "train\n",
      "microwave\n",
      "tv\n",
      "refrigerator\n",
      "skateboard\n",
      "tennis racket\n",
      "person\n",
      "keyboard\n",
      "cow\n",
      "sheep\n",
      "clock\n",
      "parking meter\n",
      "pizza\n",
      "couch\n",
      "sports ball\n",
      "car\n",
      "cup\n",
      "motorcycle\n",
      "teddy bear\n",
      "suitcase\n",
      "donut\n",
      "sink\n",
      "umbrella\n",
      "surfboard\n",
      "truck\n",
      "bowl\n",
      "fork\n",
      "kite\n",
      "bottle\n",
      "wine glass\n",
      "baseball glove\n",
      "cell phone\n",
      "cake\n",
      "toaster\n",
      "vase\n",
      "tie\n",
      "bed\n",
      "snowboard\n",
      "oven\n",
      "bird\n",
      "remote\n",
      "sandwich\n",
      "chair\n",
      "bicycle\n",
      "baseball bat\n",
      "hot dog\n",
      "boat\n",
      "skis\n",
      "toothbrush\n",
      "scissors\n",
      "orange\n",
      "potted plant\n",
      "bench\n",
      "traffic light\n",
      "carrot\n",
      "knife\n",
      "banana\n",
      "spoon\n",
      "broccoli\n",
      "handbag\n",
      "backpack\n",
      "dining table\n",
      "apple\n",
      "book\n",
      "hair drier\n"
     ]
    }
   ],
   "source": [
    "precision_sort_idx = np.argsort(-total_precision, kind='mergesort')\n",
    "i = 0\n",
    "for i in range(len(precision_sort_idx)):\n",
    "    print(class_name[precision_sort_idx[i]])"
   ]
  },
  {
   "cell_type": "code",
   "execution_count": 32,
   "metadata": {},
   "outputs": [],
   "source": [
    "#maxdetection=100 --> last_index = 2\n",
    "#small area \n",
    "def get_class_recall(recall_matrix, area_idx, maxDet_idx, T=10, K=80):\n",
    "    recall_matrix = recall_matrix[:,:,area_idx,maxDet_idx]\n",
    "    recall_matrix = recall_matrix[recall_matrix>-1].reshape(T,K)\n",
    "    recall_matrix = np.mean(recall_matrix, axis=0)\n",
    "    return np.round(recall_matrix, decimals=3) "
   ]
  },
  {
   "cell_type": "code",
   "execution_count": 29,
   "metadata": {},
   "outputs": [],
   "source": [
    "recall_matrix = result['recall']"
   ]
  },
  {
   "cell_type": "code",
   "execution_count": 30,
   "metadata": {},
   "outputs": [
    {
     "data": {
      "text/plain": [
       "(10, 80, 4, 3)"
      ]
     },
     "execution_count": 30,
     "metadata": {},
     "output_type": "execute_result"
    }
   ],
   "source": [
    "recall_matrix.shape"
   ]
  },
  {
   "cell_type": "code",
   "execution_count": 33,
   "metadata": {},
   "outputs": [],
   "source": [
    "smallarea_recall = get_class_recall(recall_matrix, area_idx=1, maxDet_idx=1)\n",
    "middlearea_recall = get_class_recall(recall_matrix, area_idx=2, maxDet_idx=1)\n",
    "largearea_recall = get_class_recall(recall_matrix, area_idx=3, maxDet_idx=1)\n",
    "total_recall = get_class_recall(recall_matrix, area_idx=0, maxDet_idx=1)"
   ]
  },
  {
   "cell_type": "code",
   "execution_count": 35,
   "metadata": {},
   "outputs": [],
   "source": [
    "class_recall_table = PrettyTable(['class','small','middle','large','total'])\n",
    "\n",
    "for cat in range(len(class_name)):\n",
    "    class_recall_table.add_row([class_name[cat],smallarea_recall[cat],middlearea_recall[cat],largearea_recall[cat],total_recall[cat]])"
   ]
  },
  {
   "cell_type": "code",
   "execution_count": 37,
   "metadata": {},
   "outputs": [
    {
     "name": "stdout",
     "output_type": "stream",
     "text": [
      "+----------------+-------+--------+-------+-------+\n",
      "|     class      | small | middle | large | total |\n",
      "+----------------+-------+--------+-------+-------+\n",
      "|     person     | 0.345 | 0.632  | 0.795 | 0.559 |\n",
      "|    bicycle     | 0.225 |  0.48  | 0.644 | 0.391 |\n",
      "|      car       | 0.415 | 0.684  | 0.784 | 0.526 |\n",
      "|   motorcycle   | 0.323 | 0.493  | 0.662 | 0.513 |\n",
      "|    airplane    | 0.727 |  0.67  | 0.663 | 0.678 |\n",
      "|      bus       | 0.364 |  0.59  | 0.824 | 0.698 |\n",
      "|     train      | 0.375 | 0.456  | 0.714 | 0.682 |\n",
      "|     truck      | 0.475 | 0.641  | 0.727 | 0.622 |\n",
      "|      boat      | 0.271 | 0.423  | 0.598 |  0.37 |\n",
      "| traffic light  | 0.325 | 0.575  | 0.616 | 0.373 |\n",
      "|  fire hydrant  | 0.544 | 0.787  | 0.855 | 0.751 |\n",
      "|   stop sign    | 0.567 | 0.871  | 0.956 | 0.792 |\n",
      "| parking meter  | 0.312 | 0.624  | 0.813 | 0.613 |\n",
      "|     bench      | 0.252 | 0.433  | 0.572 | 0.401 |\n",
      "|      bird      | 0.247 | 0.654  | 0.842 | 0.395 |\n",
      "|      cat       |  0.55 | 0.708  | 0.773 | 0.756 |\n",
      "|      dog       | 0.442 | 0.713  | 0.795 | 0.741 |\n",
      "|     horse      | 0.436 | 0.647  | 0.819 | 0.672 |\n",
      "|     sheep      | 0.363 | 0.622  | 0.713 | 0.564 |\n",
      "|      cow       | 0.406 | 0.651  | 0.808 | 0.587 |\n",
      "|    elephant    | 0.412 | 0.601  | 0.783 | 0.688 |\n",
      "|      bear      |  0.68 | 0.823  | 0.808 | 0.801 |\n",
      "|     zebra      | 0.473 | 0.687  | 0.811 | 0.702 |\n",
      "|    giraffe     | 0.454 | 0.746  | 0.791 | 0.734 |\n",
      "|    backpack    |  0.28 | 0.424  | 0.458 | 0.344 |\n",
      "|    umbrella    | 0.301 | 0.522  | 0.729 | 0.502 |\n",
      "|    handbag     | 0.279 | 0.443  |  0.57 | 0.352 |\n",
      "|      tie       | 0.286 | 0.619  | 0.776 | 0.429 |\n",
      "|    suitcase    | 0.297 | 0.533  | 0.721 | 0.502 |\n",
      "|    frisbee     | 0.681 |  0.77  | 0.888 | 0.726 |\n",
      "|      skis      | 0.315 | 0.575  |  0.5  | 0.382 |\n",
      "|   snowboard    |  0.28 | 0.712  |  0.6  | 0.454 |\n",
      "|  sports ball   | 0.481 | 0.841  | 0.743 | 0.526 |\n",
      "|      kite      | 0.428 | 0.495  | 0.577 | 0.454 |\n",
      "|  baseball bat  | 0.391 | 0.387  |  0.05 | 0.385 |\n",
      "| baseball glove | 0.374 | 0.552  | 0.833 | 0.446 |\n",
      "|   skateboard   | 0.456 | 0.727  | 0.729 | 0.609 |\n",
      "|   surfboard    | 0.267 | 0.558  | 0.669 | 0.455 |\n",
      "| tennis racket  | 0.472 | 0.669  | 0.732 | 0.603 |\n",
      "|     bottle     | 0.379 | 0.669  | 0.838 |  0.5  |\n",
      "|   wine glass   | 0.283 | 0.623  |  0.82 | 0.454 |\n",
      "|      cup       | 0.411 | 0.699  | 0.818 | 0.571 |\n",
      "|      fork      | 0.352 | 0.644  | 0.677 | 0.509 |\n",
      "|     knife      | 0.287 | 0.566  | 0.423 | 0.374 |\n",
      "|     spoon      | 0.307 | 0.586  | 0.679 | 0.404 |\n",
      "|      bowl      | 0.384 | 0.638  | 0.695 | 0.574 |\n",
      "|     banana     | 0.134 | 0.319  | 0.623 | 0.319 |\n",
      "|     apple      | 0.181 | 0.422  | 0.587 | 0.341 |\n",
      "|    sandwich    | 0.188 | 0.358  | 0.699 | 0.534 |\n",
      "|     orange     | 0.226 | 0.475  | 0.666 | 0.428 |\n",
      "|    broccoli    | 0.109 | 0.368  | 0.362 | 0.321 |\n",
      "|     carrot     | 0.259 | 0.459  | 0.368 | 0.355 |\n",
      "|    hot dog     | 0.216 | 0.464  | 0.602 | 0.425 |\n",
      "|     pizza      | 0.313 | 0.585  | 0.739 | 0.618 |\n",
      "|     donut      | 0.313 | 0.592  | 0.803 | 0.498 |\n",
      "|      cake      | 0.237 | 0.496  | 0.704 | 0.486 |\n",
      "|     chair      | 0.258 | 0.501  | 0.683 | 0.431 |\n",
      "|     couch      | 0.156 | 0.498  | 0.704 | 0.639 |\n",
      "|  potted plant  | 0.308 | 0.478  | 0.565 | 0.443 |\n",
      "|      bed       |  0.0  | 0.236  |  0.62 | 0.583 |\n",
      "|  dining table  |  0.11 | 0.338  | 0.489 | 0.389 |\n",
      "|     toilet     | 0.271 | 0.613  | 0.817 | 0.742 |\n",
      "|       tv       | 0.344 |  0.64  |  0.78 | 0.669 |\n",
      "|     laptop     | 0.325 | 0.556  | 0.816 | 0.684 |\n",
      "|     mouse      | 0.604 |  0.75  | 0.778 | 0.679 |\n",
      "|     remote     | 0.411 | 0.668  | 0.779 | 0.483 |\n",
      "|    keyboard    |  0.3  | 0.655  | 0.754 |  0.65 |\n",
      "|   cell phone   | 0.396 | 0.687  | 0.767 | 0.534 |\n",
      "|   microwave    |  0.35 | 0.733  | 0.722 | 0.702 |\n",
      "|      oven      |  0.17 | 0.492  | 0.598 |  0.53 |\n",
      "|    toaster     |  0.85 |  0.52  |  0.55 |  0.6  |\n",
      "|      sink      | 0.284 | 0.596  | 0.686 | 0.532 |\n",
      "|  refrigerator  |  0.0  | 0.464  | 0.743 | 0.675 |\n",
      "|      book      | 0.145 | 0.355  | 0.467 | 0.206 |\n",
      "|     clock      | 0.531 | 0.662  | 0.691 | 0.607 |\n",
      "|      vase      | 0.387 | 0.551  | 0.782 | 0.519 |\n",
      "|    scissors    |  0.2  | 0.567  | 0.521 | 0.417 |\n",
      "|   teddy bear   | 0.082 | 0.463  | 0.747 | 0.537 |\n",
      "|   hair drier   |  0.28 |  0.4   | 0.233 |  0.3  |\n",
      "|   toothbrush   | 0.328 |  0.5   | 0.833 | 0.409 |\n",
      "+----------------+-------+--------+-------+-------+\n"
     ]
    }
   ],
   "source": [
    "print(class_recall_table)"
   ]
  },
  {
   "cell_type": "code",
   "execution_count": 38,
   "metadata": {},
   "outputs": [
    {
     "name": "stdout",
     "output_type": "stream",
     "text": [
      "bear\n",
      "stop sign\n",
      "cat\n",
      "fire hydrant\n",
      "toilet\n",
      "dog\n",
      "giraffe\n",
      "frisbee\n",
      "zebra\n",
      "microwave\n",
      "bus\n",
      "elephant\n",
      "laptop\n",
      "train\n",
      "mouse\n",
      "airplane\n",
      "refrigerator\n",
      "horse\n",
      "tv\n",
      "keyboard\n",
      "couch\n",
      "truck\n",
      "pizza\n",
      "parking meter\n",
      "skateboard\n",
      "clock\n",
      "tennis racket\n",
      "toaster\n",
      "cow\n",
      "bed\n",
      "bowl\n",
      "cup\n",
      "sheep\n",
      "person\n",
      "teddy bear\n",
      "sandwich\n",
      "cell phone\n",
      "sink\n",
      "oven\n",
      "car\n",
      "sports ball\n",
      "vase\n",
      "motorcycle\n",
      "fork\n",
      "umbrella\n",
      "suitcase\n",
      "bottle\n",
      "donut\n",
      "cake\n",
      "remote\n",
      "surfboard\n",
      "snowboard\n",
      "kite\n",
      "wine glass\n",
      "baseball glove\n",
      "potted plant\n",
      "chair\n",
      "tie\n",
      "orange\n",
      "hot dog\n",
      "scissors\n",
      "toothbrush\n",
      "spoon\n",
      "bench\n",
      "bird\n",
      "bicycle\n",
      "dining table\n",
      "baseball bat\n",
      "skis\n",
      "knife\n",
      "traffic light\n",
      "boat\n",
      "carrot\n",
      "handbag\n",
      "backpack\n",
      "apple\n",
      "broccoli\n",
      "banana\n",
      "hair drier\n",
      "book\n"
     ]
    }
   ],
   "source": [
    "recall_sort_idx = np.argsort(-total_recall, kind='mergesort')\n",
    "i = 0\n",
    "for i in range(len(recall_sort_idx)):\n",
    "    print(class_name[recall_sort_idx[i]])"
   ]
  },
  {
   "cell_type": "code",
   "execution_count": null,
   "metadata": {},
   "outputs": [],
   "source": []
  }
 ],
 "metadata": {
  "kernelspec": {
   "display_name": "Python [conda env:centernet]",
   "language": "python",
   "name": "conda-env-centernet-py"
  },
  "language_info": {
   "codemirror_mode": {
    "name": "ipython",
    "version": 3
   },
   "file_extension": ".py",
   "mimetype": "text/x-python",
   "name": "python",
   "nbconvert_exporter": "python",
   "pygments_lexer": "ipython3",
   "version": "3.7.10"
  }
 },
 "nbformat": 4,
 "nbformat_minor": 4
}
