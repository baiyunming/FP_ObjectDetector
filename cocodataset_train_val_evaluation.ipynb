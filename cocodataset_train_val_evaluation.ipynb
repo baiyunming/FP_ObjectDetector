{
 "cells": [
  {
   "cell_type": "code",
   "execution_count": 1,
   "metadata": {},
   "outputs": [],
   "source": [
    "import os\n",
    "import pycocotools.coco as coco\n",
    "from pycocotools.cocoeval import COCOeval"
   ]
  },
  {
   "cell_type": "code",
   "execution_count": 2,
   "metadata": {},
   "outputs": [
    {
     "name": "stdout",
     "output_type": "stream",
     "text": [
      "loading annotations into memory...\n",
      "Done (t=32.54s)\n",
      "creating index...\n",
      "index created!\n",
      "loading annotations into memory...\n",
      "Done (t=3.61s)\n",
      "creating index...\n",
      "index created!\n"
     ]
    }
   ],
   "source": [
    "train_anno_path = os.path.join('F:\\TUM Learning Material\\Forschung\\CenterNet\\CenterNet-master\\data\\coco', 'annotations','instances_{}2017.json').format('train')\n",
    "validation_anno_path = os.path.join('F:\\TUM Learning Material\\Forschung\\CenterNet\\CenterNet-master\\data\\coco', 'annotations','instances_{}2017.json').format('val')\n",
    "#initialize coco object given file_path\n",
    "coco_train = coco.COCO(train_anno_path)\n",
    "coco_val = coco.COCO(validation_anno_path)"
   ]
  },
  {
   "cell_type": "code",
   "execution_count": 3,
   "metadata": {},
   "outputs": [],
   "source": [
    "train_img_ids = coco_train.getImgIds()\n",
    "val_img_ids = coco_val.getImgIds()\n",
    "cat_ids = coco_train.getCatIds()\n",
    "areaRngs = [[0 ** 2, 1e5 ** 2], [0 ** 2, 32 ** 2], [32 ** 2, 96 ** 2], [96 ** 2, 1e5 ** 2]]"
   ]
  },
  {
   "cell_type": "code",
   "execution_count": 4,
   "metadata": {},
   "outputs": [],
   "source": [
    "# COCO classes\n",
    "CLASSES = [\n",
    "    'N/A', 'person', 'bicycle', 'car', 'motorcycle', 'airplane', 'bus',\n",
    "    'train', 'truck', 'boat', 'traffic light', 'fire hydrant', 'N/A',\n",
    "    'stop sign', 'parking meter', 'bench', 'bird', 'cat', 'dog', 'horse',\n",
    "    'sheep', 'cow', 'elephant', 'bear', 'zebra', 'giraffe', 'N/A', 'backpack',\n",
    "    'umbrella', 'N/A', 'N/A', 'handbag', 'tie', 'suitcase', 'frisbee', 'skis',\n",
    "    'snowboard', 'sports ball', 'kite', 'baseball bat', 'baseball glove',\n",
    "    'skateboard', 'surfboard', 'tennis racket', 'bottle', 'N/A', 'wine glass',\n",
    "    'cup', 'fork', 'knife', 'spoon', 'bowl', 'banana', 'apple', 'sandwich',\n",
    "    'orange', 'broccoli', 'carrot', 'hot dog', 'pizza', 'donut', 'cake',\n",
    "    'chair', 'couch', 'potted plant', 'bed', 'N/A', 'dining table', 'N/A',\n",
    "    'N/A', 'toilet', 'N/A', 'tv', 'laptop', 'mouse', 'remote', 'keyboard',\n",
    "    'cell phone', 'microwave', 'oven', 'toaster', 'sink', 'refrigerator', 'N/A',\n",
    "    'book', 'clock', 'vase', 'scissors', 'teddy bear', 'hair drier',\n",
    "    'toothbrush'\n",
    "]"
   ]
  },
  {
   "cell_type": "code",
   "execution_count": 5,
   "metadata": {},
   "outputs": [
    {
     "name": "stdout",
     "output_type": "stream",
     "text": [
      "Requirement already satisfied: prettytable in f:\\anaconda3\\envs\\centernet\\lib\\site-packages (2.1.0)\n",
      "Requirement already satisfied: wcwidth in f:\\anaconda3\\envs\\centernet\\lib\\site-packages (from prettytable) (0.2.5)\n",
      "Requirement already satisfied: importlib-metadata in f:\\anaconda3\\envs\\centernet\\lib\\site-packages (from prettytable) (3.10.0)\n",
      "Requirement already satisfied: typing-extensions>=3.6.4 in f:\\anaconda3\\envs\\centernet\\lib\\site-packages (from importlib-metadata->prettytable) (3.7.4.3)\n",
      "Requirement already satisfied: zipp>=0.5 in f:\\anaconda3\\envs\\centernet\\lib\\site-packages (from importlib-metadata->prettytable) (3.4.1)\n"
     ]
    }
   ],
   "source": [
    "! pip install prettytable"
   ]
  },
  {
   "cell_type": "code",
   "execution_count": 6,
   "metadata": {},
   "outputs": [],
   "source": [
    "import sys\n",
    "from prettytable import PrettyTable"
   ]
  },
  {
   "cell_type": "code",
   "execution_count": 8,
   "metadata": {},
   "outputs": [],
   "source": [
    "train_table = PrettyTable(['category','small','middle','large','total'])\n",
    "\n",
    "for cat in cat_ids:\n",
    "    #print(CLASSES[cat])\n",
    "    #print(len(coco_train.getAnnIds(imgIds=train_img_ids, catIds=cat, areaRng=areaRngs[0], iscrowd=None)))\n",
    "    train_table.add_row([CLASSES[cat],len(coco_train.getAnnIds(imgIds=train_img_ids, catIds=cat, areaRng=areaRngs[1],iscrowd=False)),len(coco_train.getAnnIds(imgIds=train_img_ids, catIds=cat, areaRng=areaRngs[2], iscrowd=False)),len(coco_train.getAnnIds(imgIds=train_img_ids, catIds=cat, areaRng=areaRngs[3], iscrowd=False)),len(coco_train.getAnnIds(imgIds=train_img_ids, catIds=cat, areaRng=areaRngs[0], iscrowd=False))])"
   ]
  },
  {
   "cell_type": "code",
   "execution_count": 9,
   "metadata": {},
   "outputs": [
    {
     "name": "stdout",
     "output_type": "stream",
     "text": [
      "+----------------+--------+--------+-------+--------+\n",
      "|    category    | small  | middle | large | total  |\n",
      "+----------------+--------+--------+-------+--------+\n",
      "|     person     | 105429 | 86101  | 65722 | 257252 |\n",
      "|    bicycle     |  3048  |  2697  |  1311 |  7056  |\n",
      "|      car       | 26646  | 13073  |  3814 | 43533  |\n",
      "|   motorcycle   |  2261  |  3289  |  3104 |  8654  |\n",
      "|    airplane    |  1134  |  1603  |  2392 |  5129  |\n",
      "|      bus       |  724   |  1799  |  3538 |  6061  |\n",
      "|     train      |  149   |  821   |  3600 |  4570  |\n",
      "|     truck      |  2722  |  3933  |  3315 |  9970  |\n",
      "|      boat      |  5280  |  3428  |  1868 | 10576  |\n",
      "| traffic light  |  9994  |  2381  |  467  | 12842  |\n",
      "|  fire hydrant  |  453   |  574   |  838  |  1865  |\n",
      "|   stop sign    |  606   |  605   |  772  |  1983  |\n",
      "| parking meter  |  594   |  294   |  395  |  1283  |\n",
      "|     bench      |  3725  |  3638  |  2457 |  9820  |\n",
      "|      bird      |  6851  |  2370  |  1321 | 10542  |\n",
      "|      cat       |  126   |  916   |  3724 |  4766  |\n",
      "|      dog       |  666   |  1748  |  3086 |  5500  |\n",
      "|     horse      |  1463  |  2401  |  2703 |  6567  |\n",
      "|     sheep      |  4147  |  3493  |  1583 |  9223  |\n",
      "|      cow       |  3174  |  2932  |  1908 |  8014  |\n",
      "|    elephant    |  745   |  1873  |  2866 |  5484  |\n",
      "|      bear      |   37   |  283   |  974  |  1294  |\n",
      "|     zebra      |  738   |  2023  |  2508 |  5269  |\n",
      "|    giraffe     |  425   |  1764  |  2939 |  5128  |\n",
      "|    backpack    |  4406  |  3548  |  760  |  8714  |\n",
      "|    umbrella    |  4634  |  4399  |  2232 | 11265  |\n",
      "|    handbag     |  7253  |  4305  |  784  | 12342  |\n",
      "|      tie       |  3535  |  2266  |  647  |  6448  |\n",
      "|    suitcase    |  1294  |  2725  |  2093 |  6112  |\n",
      "|    frisbee     |  1436  |  1013  |  232  |  2681  |\n",
      "|      skis      |  4440  |  2020  |  163  |  6623  |\n",
      "|   snowboard    |  1305  |  1010  |  366  |  2681  |\n",
      "|  sports ball   |  5420  |  798   |   81  |  6299  |\n",
      "|      kite      |  6473  |  1808  |  521  |  8802  |\n",
      "|  baseball bat  |  2146  |  1074  |   53  |  3273  |\n",
      "| baseball glove |  2591  |  1076  |   80  |  3747  |\n",
      "|   skateboard   |  2495  |  2579  |  462  |  5536  |\n",
      "|   surfboard    |  2488  |  2560  |  1047 |  6095  |\n",
      "| tennis racket  |  1719  |  2645  |  443  |  4807  |\n",
      "|     bottle     | 14786  |  7850  |  1434 | 24070  |\n",
      "|   wine glass   |  3972  |  2990  |  877  |  7839  |\n",
      "|      cup       | 10003  |  7866  |  2705 | 20574  |\n",
      "|      fork      |  3175  |  2041  |  258  |  5474  |\n",
      "|     knife      |  5045  |  2340  |  375  |  7760  |\n",
      "|     spoon      |  4157  |  1767  |  235  |  6159  |\n",
      "|      bowl      |  4631  |  5798  |  3894 | 14323  |\n",
      "|     banana     |  3409  |  3894  |  1892 |  9195  |\n",
      "|     apple      |  2480  |  2302  |  994  |  5776  |\n",
      "|    sandwich    |  570   |  1337  |  2449 |  4356  |\n",
      "|     orange     |  2591  |  2515  |  1196 |  6302  |\n",
      "|    broccoli    |  1247  |  4157  |  1857 |  7261  |\n",
      "|     carrot     |  3458  |  3683  |  617  |  7758  |\n",
      "|    hot dog     |  785   |  1147  |  951  |  2883  |\n",
      "|     pizza      |  765   |  1640  |  3402 |  5807  |\n",
      "|     donut      |  2103  |  3124  |  1778 |  7005  |\n",
      "|      cake      |  1223  |  2537  |  2536 |  6296  |\n",
      "|     chair      | 15232  | 17089  |  5752 | 38073  |\n",
      "|     couch      |   75   |  1360  |  4344 |  5779  |\n",
      "|  potted plant  |  2693  |  4165  |  1773 |  8631  |\n",
      "|      bed       |   40   |  358   |  3794 |  4192  |\n",
      "|  dining table  |  2140  |  3464  | 10091 | 15695  |\n",
      "|     toilet     |  177   |  1313  |  2659 |  4149  |\n",
      "|       tv       |  454   |  2439  |  2910 |  5803  |\n",
      "|     laptop     |  624   |  1773  |  2563 |  4960  |\n",
      "|     mouse      |  1291  |  796   |  174  |  2261  |\n",
      "|     remote     |  4171  |  1138  |  391  |  5700  |\n",
      "|    keyboard    |  482   |  1330  |  1042 |  2854  |\n",
      "|   cell phone   |  3899  |  1821  |  702  |  6422  |\n",
      "|   microwave    |  146   |  894   |  632  |  1672  |\n",
      "|      oven      |  119   |  1177  |  2038 |  3334  |\n",
      "|    toaster     |   51   |  131   |   43  |  225   |\n",
      "|      sink      |  1350  |  2688  |  1571 |  5609  |\n",
      "|  refrigerator  |   22   |  592   |  2020 |  2634  |\n",
      "|      book      | 17121  |  5737  |  1219 | 24077  |\n",
      "|     clock      |  2967  |  2361  |  992  |  6320  |\n",
      "|      vase      |  2715  |  2299  |  1563 |  6577  |\n",
      "|    scissors    |  518   |  613   |  333  |  1464  |\n",
      "|   teddy bear   |  570   |  1897  |  2262 |  4729  |\n",
      "|   hair drier   |   76   |   95   |   27  |  198   |\n",
      "|   toothbrush   |  1249  |  527   |  169  |  1945  |\n",
      "+----------------+--------+--------+-------+--------+\n"
     ]
    }
   ],
   "source": [
    "print(train_table)"
   ]
  },
  {
   "cell_type": "code",
   "execution_count": 10,
   "metadata": {},
   "outputs": [],
   "source": [
    "val_table = PrettyTable(['category','small','middle','large','total'])\n",
    "\n",
    "for cat in cat_ids:\n",
    "    #print(CLASSES[cat])\n",
    "    #print(len(coco_train.getAnnIds(imgIds=train_img_ids, catIds=cat, areaRng=areaRngs[0], iscrowd=None)))\n",
    "    val_table.add_row([CLASSES[cat],len(coco_val.getAnnIds(imgIds=val_img_ids, catIds=cat, areaRng=areaRngs[1],iscrowd=False)),len(coco_val.getAnnIds(imgIds=val_img_ids, catIds=cat, areaRng=areaRngs[2], iscrowd=False)),len(coco_val.getAnnIds(imgIds=val_img_ids, catIds=cat, areaRng=areaRngs[3], iscrowd=False)),len(coco_val.getAnnIds(imgIds=val_img_ids, catIds=cat, areaRng=areaRngs[0], iscrowd=False))])"
   ]
  },
  {
   "cell_type": "code",
   "execution_count": 11,
   "metadata": {},
   "outputs": [
    {
     "name": "stdout",
     "output_type": "stream",
     "text": [
      "+----------------+-------+--------+-------+-------+\n",
      "|    category    | small | middle | large | total |\n",
      "+----------------+-------+--------+-------+-------+\n",
      "|     person     |  4308 |  3723  |  2746 | 10777 |\n",
      "|    bicycle     |  141  |  123   |   50  |  314  |\n",
      "|      car       |  1193 |  547   |  178  |  1918 |\n",
      "|   motorcycle   |   91  |  138   |  138  |  367  |\n",
      "|    airplane    |   30  |   43   |   70  |  143  |\n",
      "|      bus       |   36  |   82   |  165  |  283  |\n",
      "|     train      |   4   |   18   |  168  |  190  |\n",
      "|     truck      |  117  |  164   |  133  |  414  |\n",
      "|      boat      |  223  |  135   |   66  |  424  |\n",
      "| traffic light  |  516  |   99   |   19  |  634  |\n",
      "|  fire hydrant  |   27  |   30   |   44  |  101  |\n",
      "|   stop sign    |   27  |   21   |   27  |   75  |\n",
      "| parking meter  |   16  |   21   |   23  |   60  |\n",
      "|     bench      |  162  |  132   |  117  |  411  |\n",
      "|      bird      |  294  |   85   |   48  |  427  |\n",
      "|      cat       |   4   |   37   |  161  |  202  |\n",
      "|      dog       |   19  |   62   |  137  |  218  |\n",
      "|     horse      |   59  |   98   |  115  |  272  |\n",
      "|     sheep      |  108  |  159   |   87  |  354  |\n",
      "|      cow       |  156  |  123   |   93  |  372  |\n",
      "|    elephant    |   17  |   96   |  139  |  252  |\n",
      "|      bear      |   5   |   13   |   53  |   71  |\n",
      "|     zebra      |   48  |   95   |  123  |  266  |\n",
      "|    giraffe     |   26  |   97   |  109  |  232  |\n",
      "|    backpack    |  212  |  135   |   24  |  371  |\n",
      "|    umbrella    |  134  |  169   |  104  |  407  |\n",
      "|    handbag     |  316  |  204   |   20  |  540  |\n",
      "|      tie       |  154  |   77   |   21  |  252  |\n",
      "|    suitcase    |  101  |  118   |   80  |  299  |\n",
      "|    frisbee     |   67  |   40   |   8   |  115  |\n",
      "|      skis      |  178  |   59   |   4   |  241  |\n",
      "|   snowboard    |   40  |   24   |   5   |   69  |\n",
      "|  sports ball   |  226  |   27   |   7   |  260  |\n",
      "|      kite      |  224  |   81   |   22  |  327  |\n",
      "|  baseball bat  |   82  |   61   |   2   |  145  |\n",
      "| baseball glove |   93  |   52   |   3   |  148  |\n",
      "|   skateboard   |   78  |   84   |   17  |  179  |\n",
      "|   surfboard    |  110  |  118   |   39  |  267  |\n",
      "| tennis racket  |   81  |  125   |   19  |  225  |\n",
      "|     bottle     |  625  |  328   |   60  |  1013 |\n",
      "|   wine glass   |  190  |  116   |   35  |  341  |\n",
      "|      cup       |  440  |  351   |  104  |  895  |\n",
      "|      fork      |  102  |   91   |   22  |  215  |\n",
      "|     knife      |  216  |   96   |   13  |  325  |\n",
      "|     spoon      |  169  |   70   |   14  |  253  |\n",
      "|      bowl      |  199  |  234   |  190  |  623  |\n",
      "|     banana     |  122  |  173   |   75  |  370  |\n",
      "|     apple      |  106  |   91   |   39  |  236  |\n",
      "|    sandwich    |   25  |   48   |  104  |  177  |\n",
      "|     orange     |  104  |  116   |   65  |  285  |\n",
      "|    broccoli    |   55  |  189   |   68  |  312  |\n",
      "|     carrot     |  174  |  157   |   34  |  365  |\n",
      "|    hot dog     |   45  |   33   |   47  |  125  |\n",
      "|     pizza      |   52  |   80   |  152  |  284  |\n",
      "|     donut      |  163  |   96   |   69  |  328  |\n",
      "|      cake      |   90  |  122   |   98  |  310  |\n",
      "|     chair      |  695  |  829   |  247  |  1771 |\n",
      "|     couch      |   9   |   58   |  194  |  261  |\n",
      "|  potted plant  |   98  |  189   |   55  |  342  |\n",
      "|      bed       |   1   |   14   |  148  |  163  |\n",
      "|  dining table  |  114  |  173   |  408  |  695  |\n",
      "|     toilet     |   7   |   47   |  125  |  179  |\n",
      "|       tv       |   39  |  106   |  143  |  288  |\n",
      "|     laptop     |   20  |   80   |  131  |  231  |\n",
      "|     mouse      |   53  |   44   |   9   |  106  |\n",
      "|     remote     |  209  |   60   |   14  |  283  |\n",
      "|    keyboard    |   18  |   78   |   57  |  153  |\n",
      "|   cell phone   |  148  |   78   |   36  |  262  |\n",
      "|   microwave    |   4   |   33   |   18  |   55  |\n",
      "|      oven      |   10  |   51   |   82  |  143  |\n",
      "|    toaster     |   2   |   5    |   2   |   9   |\n",
      "|      sink      |   64  |   98   |   63  |  225  |\n",
      "|  refrigerator  |   1   |   28   |   97  |  126  |\n",
      "|      book      |  833  |  239   |   57  |  1129 |\n",
      "|     clock      |  121  |   99   |   47  |  267  |\n",
      "|      vase      |  125  |   98   |   51  |  274  |\n",
      "|    scissors    |   13  |   9    |   14  |   36  |\n",
      "|   teddy bear   |   39  |   49   |  102  |  190  |\n",
      "|   hair drier   |   5   |   3    |   3   |   11  |\n",
      "|   toothbrush   |   36  |   18   |   3   |   57  |\n",
      "+----------------+-------+--------+-------+-------+\n"
     ]
    }
   ],
   "source": [
    "print(val_table)"
   ]
  },
  {
   "cell_type": "code",
   "execution_count": null,
   "metadata": {},
   "outputs": [],
   "source": []
  }
 ],
 "metadata": {
  "kernelspec": {
   "display_name": "Python [conda env:centernet]",
   "language": "python",
   "name": "conda-env-centernet-py"
  },
  "language_info": {
   "codemirror_mode": {
    "name": "ipython",
    "version": 3
   },
   "file_extension": ".py",
   "mimetype": "text/x-python",
   "name": "python",
   "nbconvert_exporter": "python",
   "pygments_lexer": "ipython3",
   "version": "3.7.10"
  }
 },
 "nbformat": 4,
 "nbformat_minor": 4
}
