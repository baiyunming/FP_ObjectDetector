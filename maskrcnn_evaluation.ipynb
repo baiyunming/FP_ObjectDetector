{
 "cells": [
  {
   "cell_type": "code",
   "execution_count": 1,
   "metadata": {},
   "outputs": [],
   "source": [
    "import os\n",
    "import pycocotools.coco as coco\n",
    "\n",
    "from pycocotools.cocoeval import COCOeval"
   ]
  },
  {
   "cell_type": "code",
   "execution_count": 2,
   "metadata": {},
   "outputs": [
    {
     "name": "stdout",
     "output_type": "stream",
     "text": [
      "loading annotations into memory...\n",
      "Done (t=0.77s)\n",
      "creating index...\n",
      "index created!\n",
      "Loading and preparing results...\n",
      "DONE (t=0.37s)\n",
      "creating index...\n",
      "index created!\n"
     ]
    }
   ],
   "source": [
    "split = 'val'\n",
    "annot_path = os.path.join('F:\\TUM Learning Material\\Forschung\\CenterNet\\CenterNet-master\\data\\coco', 'annotations','instances_{}2017.json').format(split)\n",
    "#initialize coco object given file_path\n",
    "coco = coco.COCO(annot_path)\n",
    "\n",
    "maskrcnn_dets = coco.loadRes('F:\\TUM Learning Material\\Forschung\\maskrcnn_detection_results.json')"
   ]
  },
  {
   "cell_type": "code",
   "execution_count": 4,
   "metadata": {},
   "outputs": [],
   "source": [
    "coco_eval = COCOeval(coco, maskrcnn_dets, \"bbox\")"
   ]
  },
  {
   "cell_type": "code",
   "execution_count": 5,
   "metadata": {},
   "outputs": [
    {
     "name": "stdout",
     "output_type": "stream",
     "text": [
      "Running per image evaluation...\n",
      "Evaluate annotation type *bbox*\n",
      "DONE (t=19.07s).\n"
     ]
    }
   ],
   "source": [
    "coco_eval.evaluate()"
   ]
  },
  {
   "cell_type": "code",
   "execution_count": 6,
   "metadata": {
    "scrolled": false
   },
   "outputs": [
    {
     "name": "stdout",
     "output_type": "stream",
     "text": [
      "Accumulating evaluation results...\n",
      "DONE (t=3.18s).\n"
     ]
    }
   ],
   "source": [
    "result = coco_eval.accumulate()"
   ]
  },
  {
   "cell_type": "code",
   "execution_count": 7,
   "metadata": {},
   "outputs": [
    {
     "data": {
      "text/plain": [
       "[10, 101, 80, 4, 3]"
      ]
     },
     "execution_count": 7,
     "metadata": {},
     "output_type": "execute_result"
    }
   ],
   "source": [
    "result['counts']"
   ]
  },
  {
   "cell_type": "code",
   "execution_count": 8,
   "metadata": {},
   "outputs": [
    {
     "data": {
      "text/plain": [
       "(10, 101, 80, 4, 3)"
      ]
     },
     "execution_count": 8,
     "metadata": {},
     "output_type": "execute_result"
    }
   ],
   "source": [
    "result['precision'].shape"
   ]
  },
  {
   "cell_type": "code",
   "execution_count": 9,
   "metadata": {},
   "outputs": [
    {
     "name": "stdout",
     "output_type": "stream",
     "text": [
      " Average Precision  (AP) @[ IoU=0.50:0.95 | area=   all | maxDets=100 ] = 0.352\n",
      " Average Precision  (AP) @[ IoU=0.50      | area=   all | maxDets=100 ] = 0.544\n",
      " Average Precision  (AP) @[ IoU=0.75      | area=   all | maxDets=100 ] = 0.385\n",
      " Average Precision  (AP) @[ IoU=0.50:0.95 | area= small | maxDets=100 ] = 0.172\n",
      " Average Precision  (AP) @[ IoU=0.50:0.95 | area=medium | maxDets=100 ] = 0.394\n",
      " Average Precision  (AP) @[ IoU=0.50:0.95 | area= large | maxDets=100 ] = 0.486\n",
      " Average Recall     (AR) @[ IoU=0.50:0.95 | area=   all | maxDets=  1 ] = 0.298\n",
      " Average Recall     (AR) @[ IoU=0.50:0.95 | area=   all | maxDets= 10 ] = 0.429\n",
      " Average Recall     (AR) @[ IoU=0.50:0.95 | area=   all | maxDets=100 ] = 0.438\n",
      " Average Recall     (AR) @[ IoU=0.50:0.95 | area= small | maxDets=100 ] = 0.221\n",
      " Average Recall     (AR) @[ IoU=0.50:0.95 | area=medium | maxDets=100 ] = 0.486\n",
      " Average Recall     (AR) @[ IoU=0.50:0.95 | area= large | maxDets=100 ] = 0.604\n"
     ]
    }
   ],
   "source": [
    "coco_eval.summarize()"
   ]
  },
  {
   "cell_type": "code",
   "execution_count": 10,
   "metadata": {},
   "outputs": [],
   "source": [
    "T, R, K, A, M = result['counts']"
   ]
  },
  {
   "cell_type": "code",
   "execution_count": 11,
   "metadata": {},
   "outputs": [],
   "source": [
    "precision_matrix = result['precision']"
   ]
  },
  {
   "cell_type": "code",
   "execution_count": 12,
   "metadata": {},
   "outputs": [],
   "source": [
    "import numpy as np"
   ]
  },
  {
   "cell_type": "code",
   "execution_count": 13,
   "metadata": {},
   "outputs": [],
   "source": [
    "#maxdetection=100 --> last_index = 2\n",
    "#small area \n",
    "def get_class_precision(precision_matrix, area_idx, maxDet_idx, T=10, R=101, K=80):\n",
    "    class_precision = precision_matrix[:,:,:,area_idx,maxDet_idx]\n",
    "    class_precision = class_precision[class_precision>-1].reshape(T,R,K)\n",
    "    class_precision = np.mean(class_precision, axis=0)\n",
    "    class_precision = np.mean(class_precision, axis=0)\n",
    "    return np.round(class_precision, decimals=3) "
   ]
  },
  {
   "cell_type": "code",
   "execution_count": 14,
   "metadata": {},
   "outputs": [],
   "source": [
    "smallarea_precision = get_class_precision(precision_matrix, area_idx=1, maxDet_idx=1)\n",
    "middlearea_precision = get_class_precision(precision_matrix, area_idx=2, maxDet_idx=1)\n",
    "largearea_precision = get_class_precision(precision_matrix, area_idx=3, maxDet_idx=1)\n",
    "total_precision = get_class_precision(precision_matrix, area_idx=0, maxDet_idx=1)"
   ]
  },
  {
   "cell_type": "code",
   "execution_count": 15,
   "metadata": {},
   "outputs": [],
   "source": [
    "class_name = ['person', 'bicycle', 'car', 'motorcycle', 'airplane','bus', 'train', 'truck', 'boat', 'traffic light', 'fire hydrant',\n",
    "      'stop sign', 'parking meter', 'bench', 'bird', 'cat', 'dog', 'horse',\n",
    "      'sheep', 'cow', 'elephant', 'bear', 'zebra', 'giraffe', 'backpack',\n",
    "      'umbrella', 'handbag', 'tie', 'suitcase', 'frisbee', 'skis',\n",
    "      'snowboard', 'sports ball', 'kite', 'baseball bat', 'baseball glove',\n",
    "      'skateboard', 'surfboard', 'tennis racket', 'bottle', 'wine glass',\n",
    "      'cup', 'fork', 'knife', 'spoon', 'bowl', 'banana', 'apple', 'sandwich',\n",
    "      'orange', 'broccoli', 'carrot', 'hot dog', 'pizza', 'donut', 'cake',\n",
    "      'chair', 'couch', 'potted plant', 'bed', 'dining table', 'toilet', 'tv',\n",
    "      'laptop', 'mouse', 'remote', 'keyboard', 'cell phone', 'microwave',\n",
    "      'oven', 'toaster', 'sink', 'refrigerator', 'book', 'clock', 'vase',\n",
    "      'scissors', 'teddy bear', 'hair drier', 'toothbrush']"
   ]
  },
  {
   "cell_type": "code",
   "execution_count": 16,
   "metadata": {},
   "outputs": [],
   "source": [
    "import sys\n",
    "from prettytable import PrettyTable"
   ]
  },
  {
   "cell_type": "code",
   "execution_count": 17,
   "metadata": {},
   "outputs": [],
   "source": [
    "class_precision_table = PrettyTable(['class','small','middle','large','total'])\n",
    "\n",
    "for cat in range(len(class_name)):\n",
    "    class_precision_table.add_row([class_name[cat],smallarea_precision[cat],middlearea_precision[cat],largearea_precision[cat],total_precision[cat]])"
   ]
  },
  {
   "cell_type": "code",
   "execution_count": 18,
   "metadata": {},
   "outputs": [
    {
     "name": "stdout",
     "output_type": "stream",
     "text": [
      "+----------------+-------+--------+-------+-------+\n",
      "|     class      | small | middle | large | total |\n",
      "+----------------+-------+--------+-------+-------+\n",
      "|     person     | 0.252 | 0.536  | 0.684 |  0.46 |\n",
      "|    bicycle     | 0.149 | 0.323  | 0.484 |  0.26 |\n",
      "|      car       | 0.238 | 0.476  | 0.534 | 0.332 |\n",
      "|   motorcycle   |  0.2  | 0.321  | 0.543 | 0.369 |\n",
      "|    airplane    | 0.505 |  0.55  | 0.671 | 0.593 |\n",
      "|      bus       | 0.176 |  0.4   | 0.736 | 0.575 |\n",
      "|     train      | 0.364 | 0.254  | 0.598 | 0.565 |\n",
      "|     truck      | 0.116 | 0.243  | 0.414 | 0.262 |\n",
      "|      boat      |  0.13 | 0.276  | 0.463 | 0.228 |\n",
      "| traffic light  | 0.171 | 0.439  | 0.405 | 0.219 |\n",
      "|  fire hydrant  | 0.309 | 0.642  | 0.779 | 0.621 |\n",
      "|   stop sign    | 0.238 | 0.606  | 0.907 | 0.592 |\n",
      "| parking meter  | 0.117 | 0.375  | 0.647 | 0.416 |\n",
      "|     bench      | 0.092 | 0.188  | 0.367 | 0.199 |\n",
      "|      bird      | 0.161 | 0.456  | 0.689 | 0.274 |\n",
      "|      cat       | 0.058 | 0.618  | 0.655 | 0.638 |\n",
      "|      dog       | 0.251 | 0.524  | 0.618 | 0.556 |\n",
      "|     horse      | 0.187 | 0.512  | 0.672 | 0.507 |\n",
      "|     sheep      | 0.217 | 0.469  | 0.534 | 0.408 |\n",
      "|      cow       | 0.269 | 0.507  |  0.66 | 0.447 |\n",
      "|    elephant    | 0.336 | 0.445  | 0.662 | 0.551 |\n",
      "|      bear      | 0.146 | 0.731  | 0.719 | 0.675 |\n",
      "|     zebra      | 0.419 | 0.613  | 0.709 | 0.606 |\n",
      "|    giraffe     | 0.328 | 0.649  | 0.679 | 0.616 |\n",
      "|    backpack    | 0.111 | 0.149  | 0.126 | 0.113 |\n",
      "|    umbrella    | 0.139 | 0.357  | 0.469 | 0.306 |\n",
      "|    handbag     | 0.068 | 0.114  | 0.084 | 0.077 |\n",
      "|      tie       | 0.174 | 0.419  |  0.54 | 0.273 |\n",
      "|    suitcase    | 0.116 |  0.26  | 0.446 | 0.259 |\n",
      "|    frisbee     | 0.448 | 0.632  | 0.817 | 0.536 |\n",
      "|      skis      | 0.197 | 0.332  | 0.099 | 0.199 |\n",
      "|   snowboard    | 0.131 | 0.482  | 0.301 | 0.263 |\n",
      "|  sports ball   | 0.315 | 0.714  | 0.626 |  0.36 |\n",
      "|      kite      |  0.32 |  0.38  | 0.329 | 0.324 |\n",
      "|  baseball bat  | 0.222 | 0.276  |  0.0  | 0.217 |\n",
      "| baseball glove | 0.243 | 0.417  |  0.31 | 0.297 |\n",
      "|   skateboard   | 0.286 | 0.602  | 0.407 | 0.442 |\n",
      "|   surfboard    | 0.174 | 0.411  |  0.4  | 0.307 |\n",
      "| tennis racket  | 0.283 | 0.514  | 0.473 | 0.418 |\n",
      "|     bottle     | 0.209 | 0.484  | 0.615 | 0.321 |\n",
      "|   wine glass   | 0.113 | 0.457  | 0.664 | 0.292 |\n",
      "|      cup       | 0.175 | 0.457  | 0.581 | 0.334 |\n",
      "|      fork      | 0.082 | 0.427  | 0.432 | 0.257 |\n",
      "|     knife      | 0.057 | 0.248  |  0.26 | 0.115 |\n",
      "|     spoon      | 0.071 | 0.189  |  0.18 | 0.097 |\n",
      "|      bowl      | 0.153 | 0.353  |  0.5  | 0.334 |\n",
      "|     banana     | 0.052 | 0.183  |  0.41 | 0.178 |\n",
      "|     apple      |  0.03 | 0.276  | 0.309 | 0.154 |\n",
      "|    sandwich    |  0.0  | 0.159  | 0.398 | 0.273 |\n",
      "|     orange     | 0.084 | 0.304  | 0.416 | 0.239 |\n",
      "|    broccoli    | 0.088 |  0.25  | 0.292 |  0.21 |\n",
      "|     carrot     | 0.096 | 0.271  | 0.259 | 0.184 |\n",
      "|    hot dog     | 0.017 | 0.259  | 0.377 | 0.208 |\n",
      "|     pizza      | 0.061 | 0.417  | 0.596 | 0.445 |\n",
      "|     donut      | 0.197 | 0.427  | 0.705 | 0.367 |\n",
      "|      cake      |  0.14 |  0.35  | 0.404 | 0.296 |\n",
      "|     chair      | 0.095 | 0.274  | 0.336 | 0.213 |\n",
      "|     couch      |  0.0  | 0.227  | 0.401 | 0.344 |\n",
      "|  potted plant  | 0.144 | 0.256  | 0.304 | 0.219 |\n",
      "|      bed       |  0.0  | 0.109  | 0.353 | 0.329 |\n",
      "|  dining table  | 0.013 | 0.127  | 0.359 | 0.239 |\n",
      "|     toilet     | 0.045 | 0.436  | 0.617 | 0.546 |\n",
      "|       tv       | 0.126 |  0.46  |  0.63 | 0.504 |\n",
      "|     laptop     | 0.126 |  0.47  | 0.665 | 0.551 |\n",
      "|     mouse      | 0.379 | 0.642  | 0.727 | 0.515 |\n",
      "|     remote     | 0.172 | 0.416  | 0.559 | 0.242 |\n",
      "|    keyboard    |  0.16 | 0.467  |  0.57 |  0.46 |\n",
      "|   cell phone   | 0.157 |  0.47  | 0.495 | 0.292 |\n",
      "|   microwave    | 0.129 | 0.387  | 0.638 | 0.447 |\n",
      "|      oven      |  0.0  | 0.251  | 0.366 | 0.294 |\n",
      "|    toaster     | 0.404 | 0.402  | 0.454 |  0.33 |\n",
      "|      sink      | 0.145 | 0.373  | 0.357 | 0.294 |\n",
      "|  refrigerator  |  0.0  | 0.174  | 0.582 | 0.485 |\n",
      "|      book      | 0.074 | 0.176  | 0.173 | 0.093 |\n",
      "|     clock      | 0.306 | 0.586  | 0.554 | 0.451 |\n",
      "|      vase      | 0.176 | 0.372  | 0.547 | 0.311 |\n",
      "|    scissors    |  0.0  | 0.391  | 0.361 | 0.225 |\n",
      "|   teddy bear   | 0.089 | 0.406  |  0.56 | 0.416 |\n",
      "|   hair drier   |  0.0  | 0.236  | 0.014 | 0.072 |\n",
      "|   toothbrush   | 0.172 | 0.236  | 0.456 |  0.2  |\n",
      "+----------------+-------+--------+-------+-------+\n"
     ]
    }
   ],
   "source": [
    "print(class_precision_table)"
   ]
  },
  {
   "cell_type": "code",
   "execution_count": 19,
   "metadata": {},
   "outputs": [
    {
     "name": "stdout",
     "output_type": "stream",
     "text": [
      "bear\n",
      "cat\n",
      "fire hydrant\n",
      "giraffe\n",
      "zebra\n",
      "airplane\n",
      "stop sign\n",
      "bus\n",
      "train\n",
      "dog\n",
      "elephant\n",
      "laptop\n",
      "toilet\n",
      "frisbee\n",
      "mouse\n",
      "horse\n",
      "tv\n",
      "refrigerator\n",
      "person\n",
      "keyboard\n",
      "clock\n",
      "cow\n",
      "microwave\n",
      "pizza\n",
      "skateboard\n",
      "tennis racket\n",
      "parking meter\n",
      "teddy bear\n",
      "sheep\n",
      "motorcycle\n",
      "donut\n",
      "sports ball\n",
      "couch\n",
      "cup\n",
      "bowl\n",
      "car\n",
      "toaster\n",
      "bed\n",
      "kite\n",
      "bottle\n",
      "vase\n",
      "surfboard\n",
      "umbrella\n",
      "baseball glove\n",
      "cake\n",
      "oven\n",
      "sink\n",
      "wine glass\n",
      "cell phone\n",
      "bird\n",
      "tie\n",
      "sandwich\n",
      "snowboard\n",
      "truck\n",
      "bicycle\n",
      "suitcase\n",
      "fork\n",
      "remote\n",
      "orange\n",
      "dining table\n",
      "boat\n",
      "scissors\n",
      "traffic light\n",
      "potted plant\n",
      "baseball bat\n",
      "chair\n",
      "broccoli\n",
      "hot dog\n",
      "toothbrush\n",
      "bench\n",
      "skis\n",
      "carrot\n",
      "banana\n",
      "apple\n",
      "knife\n",
      "backpack\n",
      "spoon\n",
      "book\n",
      "handbag\n",
      "hair drier\n"
     ]
    }
   ],
   "source": [
    "precision_sort_idx = np.argsort(-total_precision, kind='mergesort')\n",
    "i = 0\n",
    "for i in range(len(precision_sort_idx)):\n",
    "    print(class_name[precision_sort_idx[i]])"
   ]
  },
  {
   "cell_type": "code",
   "execution_count": null,
   "metadata": {},
   "outputs": [],
   "source": [
    "#maxdetection=100 --> last_index = 2\n",
    "#small area \n",
    "def get_class_recall(recall_matrix, area_idx, maxDet_idx, T=10, K=80):\n",
    "    recall_matrix = recall_matrix[:,:,area_idx,maxDet_idx]\n",
    "    recall_matrix = recall_matrix[recall_matrix>-1].reshape(T,K)\n",
    "    recall_matrix = np.mean(recall_matrix, axis=0)\n",
    "    return np.round(recall_matrix, decimals=3) "
   ]
  },
  {
   "cell_type": "code",
   "execution_count": null,
   "metadata": {},
   "outputs": [],
   "source": [
    "recall_matrix = result['recall']"
   ]
  },
  {
   "cell_type": "code",
   "execution_count": null,
   "metadata": {},
   "outputs": [],
   "source": [
    "recall_matrix.shape"
   ]
  },
  {
   "cell_type": "code",
   "execution_count": null,
   "metadata": {},
   "outputs": [],
   "source": [
    "smallarea_recall = get_class_recall(recall_matrix, area_idx=1, maxDet_idx=1)\n",
    "middlearea_recall = get_class_recall(recall_matrix, area_idx=2, maxDet_idx=1)\n",
    "largearea_recall = get_class_recall(recall_matrix, area_idx=3, maxDet_idx=1)\n",
    "total_recall = get_class_recall(recall_matrix, area_idx=0, maxDet_idx=1)"
   ]
  },
  {
   "cell_type": "code",
   "execution_count": null,
   "metadata": {},
   "outputs": [],
   "source": [
    "class_recall_table = PrettyTable(['class','small','middle','large','total'])\n",
    "\n",
    "for cat in range(len(class_name)):\n",
    "    class_recall_table.add_row([class_name[cat],smallarea_recall[cat],middlearea_recall[cat],largearea_recall[cat],total_recall[cat]])"
   ]
  },
  {
   "cell_type": "code",
   "execution_count": null,
   "metadata": {},
   "outputs": [],
   "source": [
    "print(class_recall_table)"
   ]
  },
  {
   "cell_type": "code",
   "execution_count": null,
   "metadata": {},
   "outputs": [],
   "source": [
    "recall_sort_idx = np.argsort(-total_recall, kind='mergesort')\n",
    "i = 0\n",
    "for i in range(len(recall_sort_idx)):\n",
    "    print(class_name[recall_sort_idx[i]])"
   ]
  },
  {
   "cell_type": "code",
   "execution_count": null,
   "metadata": {},
   "outputs": [],
   "source": []
  }
 ],
 "metadata": {
  "kernelspec": {
   "display_name": "Python [conda env:centernet]",
   "language": "python",
   "name": "conda-env-centernet-py"
  },
  "language_info": {
   "codemirror_mode": {
    "name": "ipython",
    "version": 3
   },
   "file_extension": ".py",
   "mimetype": "text/x-python",
   "name": "python",
   "nbconvert_exporter": "python",
   "pygments_lexer": "ipython3",
   "version": "3.7.10"
  }
 },
 "nbformat": 4,
 "nbformat_minor": 4
}
