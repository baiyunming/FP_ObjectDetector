{
 "cells": [
  {
   "cell_type": "code",
   "execution_count": 1,
   "metadata": {},
   "outputs": [],
   "source": [
    "import os\n",
    "import pycocotools.coco as coco\n",
    "\n",
    "from pycocotools.cocoeval import COCOeval"
   ]
  },
  {
   "cell_type": "code",
   "execution_count": 2,
   "metadata": {},
   "outputs": [
    {
     "name": "stdout",
     "output_type": "stream",
     "text": [
      "loading annotations into memory...\n",
      "Done (t=0.75s)\n",
      "creating index...\n",
      "index created!\n",
      "Loading and preparing results...\n",
      "DONE (t=7.29s)\n",
      "creating index...\n",
      "index created!\n"
     ]
    }
   ],
   "source": [
    "split = 'val'\n",
    "annot_path = os.path.join('F:\\TUM Learning Material\\Forschung\\CenterNet\\CenterNet-master\\data\\coco', 'annotations','instances_{}2017.json').format(split)\n",
    "#initialize coco object given file_path\n",
    "coco = coco.COCO(annot_path)\n",
    "\n",
    "detr_dets = coco.loadRes('{}\\detr_detection_results.json'.format('F:\\TUM Learning Material\\Forschung\\detr\\detr_master\\outputs'))"
   ]
  },
  {
   "cell_type": "code",
   "execution_count": 3,
   "metadata": {},
   "outputs": [],
   "source": [
    "coco_eval = COCOeval(coco, detr_dets, \"bbox\")"
   ]
  },
  {
   "cell_type": "code",
   "execution_count": 4,
   "metadata": {},
   "outputs": [
    {
     "name": "stdout",
     "output_type": "stream",
     "text": [
      "Running per image evaluation...\n",
      "Evaluate annotation type *bbox*\n",
      "DONE (t=61.88s).\n"
     ]
    }
   ],
   "source": [
    "coco_eval.evaluate()"
   ]
  },
  {
   "cell_type": "code",
   "execution_count": 5,
   "metadata": {
    "scrolled": false
   },
   "outputs": [
    {
     "name": "stdout",
     "output_type": "stream",
     "text": [
      "Accumulating evaluation results...\n",
      "DONE (t=8.35s).\n"
     ]
    }
   ],
   "source": [
    "result = coco_eval.accumulate()"
   ]
  },
  {
   "cell_type": "code",
   "execution_count": 7,
   "metadata": {},
   "outputs": [
    {
     "data": {
      "text/plain": [
       "[10, 101, 80, 4, 3]"
      ]
     },
     "execution_count": 7,
     "metadata": {},
     "output_type": "execute_result"
    }
   ],
   "source": [
    "result['counts']"
   ]
  },
  {
   "cell_type": "code",
   "execution_count": 8,
   "metadata": {},
   "outputs": [
    {
     "data": {
      "text/plain": [
       "(10, 101, 80, 4, 3)"
      ]
     },
     "execution_count": 8,
     "metadata": {},
     "output_type": "execute_result"
    }
   ],
   "source": [
    "result['precision'].shape"
   ]
  },
  {
   "cell_type": "code",
   "execution_count": 6,
   "metadata": {},
   "outputs": [
    {
     "name": "stdout",
     "output_type": "stream",
     "text": [
      " Average Precision  (AP) @[ IoU=0.50:0.95 | area=   all | maxDets=100 ] = 0.420\n",
      " Average Precision  (AP) @[ IoU=0.50      | area=   all | maxDets=100 ] = 0.624\n",
      " Average Precision  (AP) @[ IoU=0.75      | area=   all | maxDets=100 ] = 0.442\n",
      " Average Precision  (AP) @[ IoU=0.50:0.95 | area= small | maxDets=100 ] = 0.205\n",
      " Average Precision  (AP) @[ IoU=0.50:0.95 | area=medium | maxDets=100 ] = 0.458\n",
      " Average Precision  (AP) @[ IoU=0.50:0.95 | area= large | maxDets=100 ] = 0.611\n",
      " Average Recall     (AR) @[ IoU=0.50:0.95 | area=   all | maxDets=  1 ] = 0.333\n",
      " Average Recall     (AR) @[ IoU=0.50:0.95 | area=   all | maxDets= 10 ] = 0.533\n",
      " Average Recall     (AR) @[ IoU=0.50:0.95 | area=   all | maxDets=100 ] = 0.574\n",
      " Average Recall     (AR) @[ IoU=0.50:0.95 | area= small | maxDets=100 ] = 0.312\n",
      " Average Recall     (AR) @[ IoU=0.50:0.95 | area=medium | maxDets=100 ] = 0.628\n",
      " Average Recall     (AR) @[ IoU=0.50:0.95 | area= large | maxDets=100 ] = 0.805\n"
     ]
    }
   ],
   "source": [
    "coco_eval.summarize()"
   ]
  },
  {
   "cell_type": "code",
   "execution_count": 9,
   "metadata": {},
   "outputs": [],
   "source": [
    "T, R, K, A, M = result['counts']"
   ]
  },
  {
   "cell_type": "code",
   "execution_count": 10,
   "metadata": {},
   "outputs": [],
   "source": [
    "precision_matrix = result['precision']"
   ]
  },
  {
   "cell_type": "code",
   "execution_count": 11,
   "metadata": {},
   "outputs": [],
   "source": [
    "import numpy as np"
   ]
  },
  {
   "cell_type": "code",
   "execution_count": 12,
   "metadata": {},
   "outputs": [],
   "source": [
    "#maxdetection=100 --> last_index = 2\n",
    "#small area \n",
    "def get_class_precision(precision_matrix, area_idx, maxDet_idx, T=10, R=101, K=80):\n",
    "    class_precision = precision_matrix[:,:,:,area_idx,maxDet_idx]\n",
    "    class_precision = class_precision[class_precision>-1].reshape(T,R,K)\n",
    "    class_precision = np.mean(class_precision, axis=0)\n",
    "    class_precision = np.mean(class_precision, axis=0)\n",
    "    return np.round(class_precision, decimals=3) "
   ]
  },
  {
   "cell_type": "code",
   "execution_count": 13,
   "metadata": {},
   "outputs": [],
   "source": [
    "smallarea_precision = get_class_precision(precision_matrix, area_idx=1, maxDet_idx=1)\n",
    "middlearea_precision = get_class_precision(precision_matrix, area_idx=2, maxDet_idx=1)\n",
    "largearea_precision = get_class_precision(precision_matrix, area_idx=3, maxDet_idx=1)\n",
    "total_precision = get_class_precision(precision_matrix, area_idx=0, maxDet_idx=1)"
   ]
  },
  {
   "cell_type": "code",
   "execution_count": 14,
   "metadata": {},
   "outputs": [],
   "source": [
    "class_name = ['person', 'bicycle', 'car', 'motorcycle', 'airplane','bus', 'train', 'truck', 'boat', 'traffic light', 'fire hydrant',\n",
    "      'stop sign', 'parking meter', 'bench', 'bird', 'cat', 'dog', 'horse',\n",
    "      'sheep', 'cow', 'elephant', 'bear', 'zebra', 'giraffe', 'backpack',\n",
    "      'umbrella', 'handbag', 'tie', 'suitcase', 'frisbee', 'skis',\n",
    "      'snowboard', 'sports ball', 'kite', 'baseball bat', 'baseball glove',\n",
    "      'skateboard', 'surfboard', 'tennis racket', 'bottle', 'wine glass',\n",
    "      'cup', 'fork', 'knife', 'spoon', 'bowl', 'banana', 'apple', 'sandwich',\n",
    "      'orange', 'broccoli', 'carrot', 'hot dog', 'pizza', 'donut', 'cake',\n",
    "      'chair', 'couch', 'potted plant', 'bed', 'dining table', 'toilet', 'tv',\n",
    "      'laptop', 'mouse', 'remote', 'keyboard', 'cell phone', 'microwave',\n",
    "      'oven', 'toaster', 'sink', 'refrigerator', 'book', 'clock', 'vase',\n",
    "      'scissors', 'teddy bear', 'hair drier', 'toothbrush']"
   ]
  },
  {
   "cell_type": "code",
   "execution_count": 15,
   "metadata": {},
   "outputs": [],
   "source": [
    "import sys\n",
    "from prettytable import PrettyTable"
   ]
  },
  {
   "cell_type": "code",
   "execution_count": 16,
   "metadata": {},
   "outputs": [],
   "source": [
    "class_precision_table = PrettyTable(['class','small','middle','large','total'])\n",
    "\n",
    "for cat in range(len(class_name)):\n",
    "    class_precision_table.add_row([class_name[cat],smallarea_precision[cat],middlearea_precision[cat],largearea_precision[cat],total_precision[cat]])"
   ]
  },
  {
   "cell_type": "code",
   "execution_count": 17,
   "metadata": {},
   "outputs": [
    {
     "name": "stdout",
     "output_type": "stream",
     "text": [
      "+----------------+-------+--------+-------+-------+\n",
      "|     class      | small | middle | large | total |\n",
      "+----------------+-------+--------+-------+-------+\n",
      "|     person     | 0.235 | 0.562  | 0.776 |  0.49 |\n",
      "|    bicycle     | 0.138 | 0.361  | 0.648 | 0.306 |\n",
      "|      car       |  0.24 | 0.581  | 0.738 | 0.384 |\n",
      "|   motorcycle   | 0.167 | 0.386  |  0.66 | 0.436 |\n",
      "|    airplane    | 0.589 |  0.63  | 0.748 | 0.671 |\n",
      "|      bus       | 0.217 | 0.494  | 0.828 | 0.655 |\n",
      "|     train      | 0.417 | 0.232  | 0.711 | 0.659 |\n",
      "|     truck      | 0.166 | 0.356  | 0.556 | 0.368 |\n",
      "|      boat      | 0.112 |  0.28  | 0.495 | 0.218 |\n",
      "| traffic light  | 0.166 | 0.367  | 0.586 | 0.208 |\n",
      "|  fire hydrant  | 0.361 | 0.731  | 0.796 | 0.662 |\n",
      "|   stop sign    | 0.241 | 0.628  |  0.95 | 0.621 |\n",
      "| parking meter  | 0.132 | 0.374  | 0.657 | 0.406 |\n",
      "|     bench      |  0.14 | 0.221  | 0.485 | 0.262 |\n",
      "|      bird      | 0.162 | 0.546  | 0.798 |  0.31 |\n",
      "|      cat       | 0.064 | 0.656  | 0.802 | 0.759 |\n",
      "|      dog       | 0.404 | 0.593  | 0.737 | 0.663 |\n",
      "|     horse      |  0.29 | 0.609  | 0.796 |  0.62 |\n",
      "|     sheep      | 0.244 | 0.549  |  0.71 | 0.494 |\n",
      "|      cow       | 0.286 | 0.613  | 0.785 | 0.519 |\n",
      "|    elephant    | 0.375 |  0.54  | 0.727 | 0.625 |\n",
      "|      bear      | 0.227 | 0.767  | 0.789 | 0.743 |\n",
      "|     zebra      | 0.414 | 0.673  | 0.822 | 0.689 |\n",
      "|    giraffe     | 0.342 | 0.738  | 0.783 |  0.71 |\n",
      "|    backpack    | 0.137 | 0.196  | 0.225 | 0.156 |\n",
      "|    umbrella    | 0.127 | 0.428  | 0.672 | 0.386 |\n",
      "|    handbag     | 0.105 | 0.249  | 0.089 | 0.149 |\n",
      "|      tie       | 0.162 | 0.489  | 0.631 | 0.301 |\n",
      "|    suitcase    | 0.186 | 0.351  | 0.696 | 0.394 |\n",
      "|    frisbee     | 0.482 | 0.691  | 0.907 | 0.582 |\n",
      "|      skis      | 0.208 | 0.467  | 0.481 | 0.267 |\n",
      "|   snowboard    | 0.212 | 0.669  |  0.54 |  0.39 |\n",
      "|  sports ball   | 0.329 | 0.726  | 0.661 |  0.38 |\n",
      "|      kite      |  0.3  | 0.517  | 0.419 | 0.351 |\n",
      "|  baseball bat  | 0.323 | 0.386  | 0.012 | 0.329 |\n",
      "| baseball glove | 0.277 | 0.423  | 0.624 | 0.328 |\n",
      "|   skateboard   | 0.403 | 0.681  | 0.714 | 0.557 |\n",
      "|   surfboard    | 0.216 | 0.461  | 0.647 | 0.379 |\n",
      "| tennis racket  | 0.338 | 0.551  | 0.679 | 0.479 |\n",
      "|     bottle     | 0.154 | 0.483  | 0.685 | 0.297 |\n",
      "|   wine glass   | 0.139 | 0.478  | 0.747 | 0.317 |\n",
      "|      cup       | 0.199 | 0.535  | 0.693 | 0.388 |\n",
      "|      fork      | 0.161 | 0.569  | 0.567 | 0.371 |\n",
      "|     knife      | 0.088 | 0.306  | 0.379 | 0.159 |\n",
      "|     spoon      | 0.116 | 0.288  | 0.396 | 0.168 |\n",
      "|      bowl      | 0.172 | 0.429  | 0.611 | 0.395 |\n",
      "|     banana     |  0.05 | 0.208  | 0.436 | 0.198 |\n",
      "|     apple      | 0.045 | 0.301  | 0.395 |  0.19 |\n",
      "|    sandwich    | 0.035 | 0.197  | 0.557 | 0.387 |\n",
      "|     orange     | 0.061 | 0.303  | 0.547 | 0.267 |\n",
      "|    broccoli    | 0.048 | 0.247  | 0.249 | 0.203 |\n",
      "|     carrot     | 0.093 | 0.273  | 0.297 | 0.189 |\n",
      "|    hot dog     | 0.124 | 0.415  | 0.535 | 0.351 |\n",
      "|     pizza      |  0.12 | 0.404  | 0.715 | 0.521 |\n",
      "|     donut      | 0.194 | 0.485  | 0.717 | 0.383 |\n",
      "|      cake      |  0.18 | 0.368  | 0.521 | 0.359 |\n",
      "|     chair      | 0.138 | 0.331  | 0.444 | 0.267 |\n",
      "|     couch      | 0.012 | 0.319  | 0.557 | 0.482 |\n",
      "|  potted plant  | 0.134 | 0.332  |  0.35 | 0.274 |\n",
      "|      bed       |  0.0  | 0.257  | 0.543 | 0.512 |\n",
      "|  dining table  | 0.026 | 0.187  | 0.463 | 0.322 |\n",
      "|     toilet     | 0.074 | 0.574  | 0.709 | 0.645 |\n",
      "|       tv       | 0.145 | 0.542  | 0.735 | 0.584 |\n",
      "|     laptop     |  0.17 | 0.517  | 0.794 | 0.643 |\n",
      "|     mouse      | 0.395 | 0.683  |  0.79 | 0.548 |\n",
      "|     remote     | 0.163 | 0.488  | 0.585 | 0.255 |\n",
      "|    keyboard    | 0.216 | 0.492  | 0.673 | 0.524 |\n",
      "|   cell phone   | 0.137 | 0.465  | 0.625 |  0.3  |\n",
      "|   microwave    | 0.195 | 0.576  | 0.697 | 0.587 |\n",
      "|      oven      | 0.036 | 0.342  | 0.485 | 0.396 |\n",
      "|    toaster     | 0.573 | 0.247  | 0.505 | 0.339 |\n",
      "|      sink      |  0.17 | 0.431  | 0.496 | 0.367 |\n",
      "|  refrigerator  |  0.0  | 0.233  | 0.713 | 0.602 |\n",
      "|      book      | 0.053 | 0.163  | 0.302 | 0.088 |\n",
      "|     clock      | 0.306 | 0.556  |  0.61 | 0.438 |\n",
      "|      vase      | 0.147 |  0.39  | 0.616 | 0.313 |\n",
      "|    scissors    | 0.026 | 0.394  | 0.586 | 0.337 |\n",
      "|   teddy bear   | 0.133 | 0.429  | 0.681 | 0.496 |\n",
      "|   hair drier   | 0.095 | 0.355  | 0.492 | 0.228 |\n",
      "|   toothbrush   |  0.12 | 0.263  |  0.6  |  0.19 |\n",
      "+----------------+-------+--------+-------+-------+\n"
     ]
    }
   ],
   "source": [
    "print(class_precision_table)"
   ]
  },
  {
   "cell_type": "code",
   "execution_count": 18,
   "metadata": {},
   "outputs": [
    {
     "name": "stdout",
     "output_type": "stream",
     "text": [
      "cat\n",
      "bear\n",
      "giraffe\n",
      "zebra\n",
      "airplane\n",
      "dog\n",
      "fire hydrant\n",
      "train\n",
      "bus\n",
      "toilet\n",
      "laptop\n",
      "elephant\n",
      "stop sign\n",
      "horse\n",
      "refrigerator\n",
      "microwave\n",
      "tv\n",
      "frisbee\n",
      "skateboard\n",
      "mouse\n",
      "keyboard\n",
      "pizza\n",
      "cow\n",
      "bed\n",
      "teddy bear\n",
      "sheep\n",
      "person\n",
      "couch\n",
      "tennis racket\n",
      "clock\n",
      "motorcycle\n",
      "parking meter\n",
      "oven\n",
      "bowl\n",
      "suitcase\n",
      "snowboard\n",
      "cup\n",
      "sandwich\n",
      "umbrella\n",
      "car\n",
      "donut\n",
      "sports ball\n",
      "surfboard\n",
      "fork\n",
      "truck\n",
      "sink\n",
      "cake\n",
      "kite\n",
      "hot dog\n",
      "toaster\n",
      "scissors\n",
      "baseball bat\n",
      "baseball glove\n",
      "dining table\n",
      "wine glass\n",
      "vase\n",
      "bird\n",
      "bicycle\n",
      "tie\n",
      "cell phone\n",
      "bottle\n",
      "potted plant\n",
      "skis\n",
      "orange\n",
      "chair\n",
      "bench\n",
      "remote\n",
      "hair drier\n",
      "boat\n",
      "traffic light\n",
      "broccoli\n",
      "banana\n",
      "apple\n",
      "toothbrush\n",
      "carrot\n",
      "spoon\n",
      "knife\n",
      "backpack\n",
      "handbag\n",
      "book\n"
     ]
    }
   ],
   "source": [
    "precision_sort_idx = np.argsort(-total_precision, kind='mergesort')\n",
    "i = 0\n",
    "for i in range(len(precision_sort_idx)):\n",
    "    print(class_name[precision_sort_idx[i]])"
   ]
  },
  {
   "cell_type": "code",
   "execution_count": null,
   "metadata": {},
   "outputs": [],
   "source": [
    "#maxdetection=100 --> last_index = 2\n",
    "#small area \n",
    "def get_class_recall(recall_matrix, area_idx, maxDet_idx, T=10, K=80):\n",
    "    recall_matrix = recall_matrix[:,:,area_idx,maxDet_idx]\n",
    "    recall_matrix = recall_matrix[recall_matrix>-1].reshape(T,K)\n",
    "    recall_matrix = np.mean(recall_matrix, axis=0)\n",
    "    return np.round(recall_matrix, decimals=3) "
   ]
  },
  {
   "cell_type": "code",
   "execution_count": null,
   "metadata": {},
   "outputs": [],
   "source": [
    "recall_matrix = result['recall']"
   ]
  },
  {
   "cell_type": "code",
   "execution_count": null,
   "metadata": {},
   "outputs": [],
   "source": [
    "recall_matrix.shape"
   ]
  },
  {
   "cell_type": "code",
   "execution_count": null,
   "metadata": {},
   "outputs": [],
   "source": [
    "smallarea_recall = get_class_recall(recall_matrix, area_idx=1, maxDet_idx=1)\n",
    "middlearea_recall = get_class_recall(recall_matrix, area_idx=2, maxDet_idx=1)\n",
    "largearea_recall = get_class_recall(recall_matrix, area_idx=3, maxDet_idx=1)\n",
    "total_recall = get_class_recall(recall_matrix, area_idx=0, maxDet_idx=1)"
   ]
  },
  {
   "cell_type": "code",
   "execution_count": null,
   "metadata": {},
   "outputs": [],
   "source": [
    "class_recall_table = PrettyTable(['class','small','middle','large','total'])\n",
    "\n",
    "for cat in range(len(class_name)):\n",
    "    class_recall_table.add_row([class_name[cat],smallarea_recall[cat],middlearea_recall[cat],largearea_recall[cat],total_recall[cat]])"
   ]
  },
  {
   "cell_type": "code",
   "execution_count": null,
   "metadata": {},
   "outputs": [],
   "source": [
    "print(class_recall_table)"
   ]
  },
  {
   "cell_type": "code",
   "execution_count": null,
   "metadata": {},
   "outputs": [],
   "source": [
    "recall_sort_idx = np.argsort(-total_recall, kind='mergesort')\n",
    "i = 0\n",
    "for i in range(len(recall_sort_idx)):\n",
    "    print(class_name[recall_sort_idx[i]])"
   ]
  },
  {
   "cell_type": "code",
   "execution_count": null,
   "metadata": {},
   "outputs": [],
   "source": []
  }
 ],
 "metadata": {
  "kernelspec": {
   "display_name": "Python [conda env:centernet]",
   "language": "python",
   "name": "conda-env-centernet-py"
  },
  "language_info": {
   "codemirror_mode": {
    "name": "ipython",
    "version": 3
   },
   "file_extension": ".py",
   "mimetype": "text/x-python",
   "name": "python",
   "nbconvert_exporter": "python",
   "pygments_lexer": "ipython3",
   "version": "3.7.10"
  }
 },
 "nbformat": 4,
 "nbformat_minor": 4
}
